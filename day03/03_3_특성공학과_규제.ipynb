{
 "cells": [
  {
   "cell_type": "markdown",
   "metadata": {},
   "source": [
    "### 사전준비"
   ]
  },
  {
   "cell_type": "code",
   "execution_count": 4,
   "metadata": {},
   "outputs": [],
   "source": [
    "#기본적인 패키지부터 추가\n",
    "import numpy as np\n",
    "import pandas as pd\n",
    "import scipy as sp\n",
    "\n",
    "import matplotlib as mpl\n",
    "import matplotlib.pyplot as plt\n",
    "import seaborn as sns"
   ]
  },
  {
   "cell_type": "code",
   "execution_count": 5,
   "metadata": {},
   "outputs": [],
   "source": [
    "from matplotlib import rc\n",
    "import matplotlib.font_manager as fm\n",
    "\n",
    "plt.rc('font', family='Malgun Gothic')\n",
    "sns.set(font='Malgun Gothic', rc={'axes.unicode_minus':False}, style='darkgrid')"
   ]
  },
  {
   "cell_type": "code",
   "execution_count": 6,
   "metadata": {},
   "outputs": [],
   "source": [
    "# 머신러닝 패키지 추가\n",
    "import statsmodels.api as sm\n",
    "import sklearn as sk"
   ]
  },
  {
   "cell_type": "markdown",
   "metadata": {},
   "source": [
    "### 특성공학 / 규제\n",
    "\n",
    "#### 데이터 준비"
   ]
  },
  {
   "cell_type": "code",
   "execution_count": 7,
   "metadata": {},
   "outputs": [
    {
     "data": {
      "text/html": [
       "<div>\n",
       "<style scoped>\n",
       "    .dataframe tbody tr th:only-of-type {\n",
       "        vertical-align: middle;\n",
       "    }\n",
       "\n",
       "    .dataframe tbody tr th {\n",
       "        vertical-align: top;\n",
       "    }\n",
       "\n",
       "    .dataframe thead th {\n",
       "        text-align: right;\n",
       "    }\n",
       "</style>\n",
       "<table border=\"1\" class=\"dataframe\">\n",
       "  <thead>\n",
       "    <tr style=\"text-align: right;\">\n",
       "      <th></th>\n",
       "      <th>length</th>\n",
       "      <th>height</th>\n",
       "      <th>width</th>\n",
       "    </tr>\n",
       "  </thead>\n",
       "  <tbody>\n",
       "    <tr>\n",
       "      <th>51</th>\n",
       "      <td>42.0</td>\n",
       "      <td>12.80</td>\n",
       "      <td>6.87</td>\n",
       "    </tr>\n",
       "    <tr>\n",
       "      <th>52</th>\n",
       "      <td>43.0</td>\n",
       "      <td>11.93</td>\n",
       "      <td>7.28</td>\n",
       "    </tr>\n",
       "    <tr>\n",
       "      <th>53</th>\n",
       "      <td>43.0</td>\n",
       "      <td>12.51</td>\n",
       "      <td>7.42</td>\n",
       "    </tr>\n",
       "    <tr>\n",
       "      <th>54</th>\n",
       "      <td>43.5</td>\n",
       "      <td>12.60</td>\n",
       "      <td>8.14</td>\n",
       "    </tr>\n",
       "    <tr>\n",
       "      <th>55</th>\n",
       "      <td>44.0</td>\n",
       "      <td>12.49</td>\n",
       "      <td>7.60</td>\n",
       "    </tr>\n",
       "  </tbody>\n",
       "</table>\n",
       "</div>"
      ],
      "text/plain": [
       "    length   height   width\n",
       "51    42.0    12.80    6.87\n",
       "52    43.0    11.93    7.28\n",
       "53    43.0    12.51    7.42\n",
       "54    43.5    12.60    8.14\n",
       "55    44.0    12.49    7.60"
      ]
     },
     "execution_count": 7,
     "metadata": {},
     "output_type": "execute_result"
    }
   ],
   "source": [
    "df = pd.read_csv('https://bit.ly/perch_csv')\n",
    "df.tail()"
   ]
  },
  {
   "cell_type": "code",
   "execution_count": 8,
   "metadata": {},
   "outputs": [
    {
     "data": {
      "text/plain": [
       "array([[ 8.4 ,  2.11,  1.41],\n",
       "       [13.7 ,  3.53,  2.  ],\n",
       "       [15.  ,  3.82,  2.43],\n",
       "       [16.2 ,  4.59,  2.63],\n",
       "       [17.4 ,  4.59,  2.94],\n",
       "       [18.  ,  5.22,  3.32],\n",
       "       [18.7 ,  5.2 ,  3.12],\n",
       "       [19.  ,  5.64,  3.05],\n",
       "       [19.6 ,  5.14,  3.04],\n",
       "       [20.  ,  5.08,  2.77],\n",
       "       [21.  ,  5.69,  3.56],\n",
       "       [21.  ,  5.92,  3.31],\n",
       "       [21.  ,  5.69,  3.67],\n",
       "       [21.3 ,  6.38,  3.53],\n",
       "       [22.  ,  6.11,  3.41],\n",
       "       [22.  ,  5.64,  3.52],\n",
       "       [22.  ,  6.11,  3.52],\n",
       "       [22.  ,  5.88,  3.52],\n",
       "       [22.  ,  5.52,  4.  ],\n",
       "       [22.5 ,  5.86,  3.62],\n",
       "       [22.5 ,  6.79,  3.62],\n",
       "       [22.7 ,  5.95,  3.63],\n",
       "       [23.  ,  5.22,  3.63],\n",
       "       [23.5 ,  6.28,  3.72],\n",
       "       [24.  ,  7.29,  3.72],\n",
       "       [24.  ,  6.38,  3.82],\n",
       "       [24.6 ,  6.73,  4.17],\n",
       "       [25.  ,  6.44,  3.68],\n",
       "       [25.6 ,  6.56,  4.24],\n",
       "       [26.5 ,  7.17,  4.14],\n",
       "       [27.3 ,  8.32,  5.14],\n",
       "       [27.5 ,  7.17,  4.34],\n",
       "       [27.5 ,  7.05,  4.34],\n",
       "       [27.5 ,  7.28,  4.57],\n",
       "       [28.  ,  7.82,  4.2 ],\n",
       "       [28.7 ,  7.59,  4.64],\n",
       "       [30.  ,  7.62,  4.77],\n",
       "       [32.8 , 10.03,  6.02],\n",
       "       [34.5 , 10.26,  6.39],\n",
       "       [35.  , 11.49,  7.8 ],\n",
       "       [36.5 , 10.88,  6.86],\n",
       "       [36.  , 10.61,  6.74],\n",
       "       [37.  , 10.84,  6.26],\n",
       "       [37.  , 10.57,  6.37],\n",
       "       [39.  , 11.14,  7.49],\n",
       "       [39.  , 11.14,  6.  ],\n",
       "       [39.  , 12.43,  7.35],\n",
       "       [40.  , 11.93,  7.11],\n",
       "       [40.  , 11.73,  7.22],\n",
       "       [40.  , 12.38,  7.46],\n",
       "       [40.  , 11.14,  6.63],\n",
       "       [42.  , 12.8 ,  6.87],\n",
       "       [43.  , 11.93,  7.28],\n",
       "       [43.  , 12.51,  7.42],\n",
       "       [43.5 , 12.6 ,  8.14],\n",
       "       [44.  , 12.49,  7.6 ]])"
      ]
     },
     "execution_count": 8,
     "metadata": {},
     "output_type": "execute_result"
    }
   ],
   "source": [
    "perch_full = df.to_numpy()\n",
    "perch_full"
   ]
  }
 ],
 "metadata": {
  "kernelspec": {
   "display_name": "Python 3.10.5 64-bit",
   "language": "python",
   "name": "python3"
  },
  "language_info": {
   "codemirror_mode": {
    "name": "ipython",
    "version": 3
   },
   "file_extension": ".py",
   "mimetype": "text/x-python",
   "name": "python",
   "nbconvert_exporter": "python",
   "pygments_lexer": "ipython3",
   "version": "3.10.5"
  },
  "orig_nbformat": 4,
  "vscode": {
   "interpreter": {
    "hash": "fe3d9237b4a62cd7715eb234158a07f236d8efc42b8ea743ee7cae33e0917df2"
   }
  }
 },
 "nbformat": 4,
 "nbformat_minor": 2
}
